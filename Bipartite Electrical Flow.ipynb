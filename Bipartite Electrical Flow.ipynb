{
 "cells": [
  {
   "cell_type": "code",
   "execution_count": 151,
   "metadata": {},
   "outputs": [],
   "source": [
    "import numpy as np\n",
    "import copy\n",
    "import matplotlib.pyplot as plt\n"
   ]
  },
  {
   "cell_type": "code",
   "execution_count": 493,
   "metadata": {},
   "outputs": [],
   "source": [
    "class BipartiteGraph():\n",
    "    def __init__(self, adj_mat, supply_vec, res):\n",
    "        self.adj_mat = adj_mat\n",
    "        self.supply_vec = supply_vec\n",
    "        self.res = res\n",
    "        self.m = adj_mat.shape[0]\n",
    "        self.n = adj_mat.shape[1]\n",
    "        self.edges = None\n",
    "        self.laplacian = None\n",
    "        self.potentials = None\n",
    "        self.error = None\n",
    "        self.elec_flow = None\n",
    "        self.flow = None\n",
    "        \n",
    "        # initialize laplacian, potentials, and error\n",
    "        self.init_edges()\n",
    "        self.compute_laplacian()\n",
    "        self.compute_potentials()\n",
    "        self.compute_elec_flow()\n",
    "    \n",
    "        # for floating point error stuff -- anything with absolute value less than this is considered 0\n",
    "        self.tol = 1e-8\n",
    "        \n",
    "    def set_supply_vec(self, supply_vec):\n",
    "        self.supply_vec = supply_vec\n",
    "        \n",
    "    def init_edges(self):\n",
    "        edges = []\n",
    "        for u in range(self.m):\n",
    "            for v in range(self.n):\n",
    "                if self.adj_mat[u,v] == 1:\n",
    "                    edges.append([u,v])\n",
    "        self.edges = edges\n",
    "        \n",
    "    def add_edge(self, u, v):\n",
    "        if self.adj_mat[u,v] == 0:\n",
    "            self.adj_mat[u,v] = 1\n",
    "            self.edges.append([u,v])\n",
    "        \n",
    "    def add_random_edges(self, num_edges=1):\n",
    "        non_edges = []\n",
    "        for u in range(self.m):\n",
    "            for v in range(self.n):\n",
    "                if self.adj_mat[u,v] == 0:\n",
    "                    non_edges.append([u,v])\n",
    "        l = len(non_edges)\n",
    "        if l > 0:\n",
    "            edges_to_add = np.random.choice(l, num_edges, replace=False)\n",
    "            for k in edges_to_add:\n",
    "                u,v = non_edges[k]\n",
    "                self.adj_mat[u,v] = 1\n",
    "            self.init_edges()\n",
    "            return True\n",
    "        return False\n",
    "        \n",
    "    def del_edge(self, u, v):\n",
    "        if self.adj_mat[u,v] == 1:\n",
    "            self.adj_mat[u,v] = 0\n",
    "            self.edges.remove([u,v])\n",
    "    \n",
    "    def compute_laplacian(self):\n",
    "        weighted_adj_mat = np.multiply(self.adj_mat, np.reciprocal(self.res))\n",
    "        left_degs = np.diag(np.dot(weighted_adj_mat, np.ones(self.m)))\n",
    "        right_degs = np.diag(np.dot(weighted_adj_mat.T, np.ones(self.n)))\n",
    "        laplacian = np.block([[left_degs, -weighted_adj_mat], [-weighted_adj_mat.T, right_degs]])\n",
    "        self.laplacian = laplacian\n",
    "        return laplacian\n",
    "    \n",
    "    def compute_elec_flow(self):\n",
    "        m,n = self.m, self.n\n",
    "        if self.elec_flow is None:\n",
    "            self.elec_flow = np.zeros(self.adj_mat.shape)\n",
    "        for u,v in self.edges:\n",
    "            self.elec_flow[u,v] = (self.potentials[u] - self.potentials[m+v])/self.res[u,v]\n",
    "    \n",
    "    def set_resistances(self, r_mat):\n",
    "        self.res = r_mat\n",
    "        \n",
    "    def update_resistance(self, u, v, r):\n",
    "        self.res[u,v] = r\n",
    "        \n",
    "    def compute_potentials(self):\n",
    "        potentials,_,_,_ = np.linalg.lstsq(self.laplacian, self.supply_vec)\n",
    "        error = np.sum(np.square(self.supply_vec - np.dot(self.laplacian, potentials)))\n",
    "        self.potentials = potentials\n",
    "        self.error = error\n",
    "        return potentials, error\n",
    "    \n",
    "    def update_flow(self, flow):\n",
    "        m,n = self.m, self.n\n",
    "        if self.flow is None:\n",
    "            self.flow = flow\n",
    "        else:\n",
    "            self.flow = self.flow + flow\n",
    "    \n",
    "    def count_neg_edges(self):\n",
    "        num_neg_edges = 0\n",
    "        m = self.m\n",
    "        n = self.n\n",
    "        pots = self.potentials\n",
    "        num_neg_edges = 0\n",
    "        for u, v in self.edges:\n",
    "            if (pots[u] - pots[m+v] < -self.tol):\n",
    "                num_neg_edges += 1\n",
    "        return num_neg_edges\n",
    "    \n",
    "    def del_all_neg_edges(self):\n",
    "        m = self.m\n",
    "        n = self.n\n",
    "        pots = self.potentials\n",
    "        num_neg_edges = 0\n",
    "        for u,v in self.edges:\n",
    "            if pots[u] - pots[m+v] < -self.tol:\n",
    "                self.adj_mat[u,v] = 0\n",
    "                num_neg_edges += 1\n",
    "        self.init_edges()\n",
    "        return num_neg_edges\n",
    "    \n",
    "    def total_neg_flow(self):\n",
    "        m = self.m\n",
    "        n = self.n\n",
    "        pots = self.potentials\n",
    "        neg_flow = 0.0\n",
    "        for u,v in self.edges:\n",
    "            if (pots[u] - pots[m+v] < -self.tol):\n",
    "                    neg_flow += (pots[m+v] - pots[u])/self.res[u,v]\n",
    "        return neg_flow\n",
    "                    \n",
    "class Helper:\n",
    "    def add_random_edges(adj_mat, num_edges):\n",
    "        non_edges = []\n",
    "        m = adj_mat.shape[0]\n",
    "        n = adj_mat.shape[1]\n",
    "        for u in range(m):\n",
    "            for v in range(n):\n",
    "                if adj_mat[u,v] == 0:\n",
    "                    non_edges.append([u,v])\n",
    "        l = len(non_edges)\n",
    "        if l > 0:\n",
    "            edges_to_add = np.random.choice(l, num_edges, replace=False)\n",
    "            for k in edges_to_add:\n",
    "                u,v = non_edges[k]\n",
    "                adj_mat[u,v] = 1\n",
    "            return True\n",
    "        return False\n",
    "    \n",
    "    def gen_rand_bipartite_graph(m, n, num_edges):\n",
    "        adj_mat = np.eye(m, n)\n",
    "        supply_vec = np.array([1]*m + [-1]*n)\n",
    "        res_mat = np.ones((m,n))\n",
    "        Helper.add_random_edges(adj_mat, num_edges-min(m,n))\n",
    "        g = BipartiteGraph(adj_mat, supply_vec, res_mat)\n",
    "        return g\n",
    "        "
   ]
  },
  {
   "cell_type": "code",
   "execution_count": 417,
   "metadata": {},
   "outputs": [
    {
     "data": {
      "text/plain": [
       "array([[ 0.79370839, -0.2385094 , -3.06355833],\n",
       "       [-1.83840416,  0.62825426,  1.26805878],\n",
       "       [-1.14025691, -1.14344704, -1.03002968]])"
      ]
     },
     "execution_count": 417,
     "metadata": {},
     "output_type": "execute_result"
    }
   ],
   "source": [
    "A = np.random.randn(3, 3)\n",
    "A.clip(0)\n",
    "A"
   ]
  },
  {
   "cell_type": "code",
   "execution_count": 421,
   "metadata": {},
   "outputs": [
    {
     "data": {
      "text/plain": [
       "array([ 1,  2,  3, -2, -2, -2])"
      ]
     },
     "execution_count": 421,
     "metadata": {},
     "output_type": "execute_result"
    }
   ],
   "source": [
    "a = np.array([1, 2, 3])\n",
    "b = np.array([-2,-2,-2])\n",
    "c = np.concatenate([a,b])\n",
    "c"
   ]
  },
  {
   "cell_type": "code",
   "execution_count": 413,
   "metadata": {},
   "outputs": [
    {
     "data": {
      "text/plain": [
       "(1.958692323857196e-27, 6)"
      ]
     },
     "execution_count": 413,
     "metadata": {},
     "output_type": "execute_result"
    }
   ],
   "source": [
    "g.error, g.count_neg_edges()"
   ]
  },
  {
   "cell_type": "code",
   "execution_count": 92,
   "metadata": {
    "collapsed": true
   },
   "outputs": [
    {
     "data": {
      "text/plain": [
       "(array([[ 1.,  1.,  1.,  1.,  1.,  1.,  1.,  1.,  1.,  1.,  1.,  1.,  1.,\n",
       "          1.,  1.,  1.,  1.,  1.,  1.,  0.,  1.,  1.,  1.,  1.,  1.,  1.,\n",
       "          1.,  1.,  0.,  0.],\n",
       "        [ 1.,  1.,  1.,  1.,  1.,  1.,  1.,  1.,  1.,  1.,  1.,  1.,  1.,\n",
       "          1.,  1.,  1.,  1.,  1.,  1.,  1.,  1.,  1.,  1.,  1.,  1.,  1.,\n",
       "          1.,  1.,  1.,  1.],\n",
       "        [ 1.,  1.,  1.,  0.,  1.,  1.,  1.,  1.,  1.,  0.,  1.,  1.,  1.,\n",
       "          1.,  1.,  0.,  1.,  1.,  1.,  0.,  1.,  0.,  1.,  1.,  0.,  1.,\n",
       "          1.,  1.,  1.,  1.],\n",
       "        [ 0.,  1.,  1.,  1.,  1.,  1.,  1.,  1.,  1.,  0.,  1.,  1.,  1.,\n",
       "          0.,  1.,  1.,  1.,  1.,  1.,  1.,  1.,  1.,  1.,  0.,  1.,  1.,\n",
       "          1.,  1.,  1.,  1.],\n",
       "        [ 0.,  1.,  1.,  1.,  1.,  1.,  1.,  1.,  1.,  1.,  1.,  1.,  1.,\n",
       "          1.,  1.,  1.,  1.,  1.,  1.,  1.,  1.,  1.,  1.,  1.,  1.,  1.,\n",
       "          1.,  1.,  1.,  1.],\n",
       "        [ 1.,  1.,  1.,  1.,  1.,  1.,  1.,  1.,  0.,  0.,  1.,  1.,  1.,\n",
       "          1.,  0.,  1.,  1.,  0.,  1.,  1.,  0.,  1.,  1.,  1.,  1.,  1.,\n",
       "          1.,  1.,  1.,  1.],\n",
       "        [ 1.,  1.,  0.,  1.,  1.,  1.,  1.,  1.,  1.,  1.,  1.,  1.,  1.,\n",
       "          1.,  1.,  1.,  1.,  1.,  1.,  1.,  1.,  1.,  1.,  1.,  1.,  1.,\n",
       "          1.,  1.,  1.,  1.],\n",
       "        [ 0.,  1.,  1.,  1.,  0.,  1.,  0.,  1.,  1.,  1.,  1.,  1.,  1.,\n",
       "          1.,  1.,  0.,  1.,  0.,  1.,  1.,  1.,  1.,  1.,  1.,  1.,  0.,\n",
       "          1.,  1.,  1.,  1.],\n",
       "        [ 1.,  1.,  1.,  1.,  1.,  1.,  1.,  1.,  1.,  1.,  1.,  1.,  1.,\n",
       "          0.,  1.,  1.,  1.,  1.,  1.,  1.,  1.,  1.,  1.,  0.,  1.,  1.,\n",
       "          0.,  1.,  1.,  1.],\n",
       "        [ 1.,  1.,  1.,  1.,  1.,  1.,  0.,  1.,  1.,  1.,  1.,  1.,  1.,\n",
       "          1.,  1.,  1.,  1.,  1.,  1.,  1.,  1.,  1.,  1.,  0.,  1.,  1.,\n",
       "          1.,  1.,  1.,  1.],\n",
       "        [ 1.,  1.,  1.,  0.,  1.,  1.,  1.,  1.,  1.,  1.,  1.,  1.,  1.,\n",
       "          1.,  1.,  1.,  1.,  1.,  1.,  0.,  1.,  1.,  1.,  1.,  1.,  1.,\n",
       "          1.,  1.,  1.,  1.],\n",
       "        [ 1.,  1.,  1.,  1.,  1.,  0.,  1.,  0.,  1.,  1.,  1.,  1.,  1.,\n",
       "          1.,  1.,  1.,  1.,  1.,  1.,  1.,  1.,  1.,  1.,  1.,  1.,  0.,\n",
       "          1.,  1.,  1.,  0.],\n",
       "        [ 1.,  1.,  1.,  1.,  1.,  1.,  1.,  1.,  1.,  1.,  1.,  1.,  1.,\n",
       "          1.,  1.,  1.,  1.,  1.,  1.,  1.,  1.,  1.,  1.,  1.,  1.,  1.,\n",
       "          0.,  1.,  1.,  1.],\n",
       "        [ 1.,  1.,  1.,  1.,  1.,  0.,  1.,  1.,  1.,  1.,  1.,  1.,  1.,\n",
       "          1.,  1.,  1.,  1.,  1.,  1.,  1.,  1.,  0.,  1.,  1.,  1.,  1.,\n",
       "          1.,  1.,  1.,  1.],\n",
       "        [ 1.,  1.,  1.,  1.,  0.,  1.,  1.,  1.,  0.,  1.,  1.,  1.,  1.,\n",
       "          1.,  1.,  1.,  1.,  0.,  1.,  1.,  0.,  1.,  1.,  0.,  1.,  0.,\n",
       "          0.,  1.,  1.,  0.],\n",
       "        [ 1.,  1.,  1.,  1.,  1.,  0.,  0.,  0.,  1.,  1.,  1.,  1.,  1.,\n",
       "          1.,  1.,  1.,  1.,  1.,  0.,  0.,  1.,  1.,  1.,  1.,  1.,  1.,\n",
       "          1.,  0.,  1.,  1.],\n",
       "        [ 1.,  1.,  1.,  1.,  1.,  1.,  1.,  1.,  1.,  1.,  1.,  1.,  0.,\n",
       "          1.,  1.,  1.,  1.,  0.,  1.,  1.,  1.,  1.,  1.,  1.,  1.,  1.,\n",
       "          1.,  1.,  1.,  0.],\n",
       "        [ 1.,  1.,  1.,  1.,  1.,  1.,  1.,  1.,  1.,  1.,  1.,  1.,  1.,\n",
       "          1.,  1.,  1.,  1.,  1.,  1.,  1.,  1.,  1.,  1.,  1.,  1.,  1.,\n",
       "          1.,  1.,  1.,  1.],\n",
       "        [ 1.,  1.,  1.,  1.,  1.,  1.,  1.,  1.,  1.,  1.,  1.,  1.,  1.,\n",
       "          0.,  0.,  1.,  1.,  1.,  1.,  1.,  1.,  1.,  1.,  1.,  1.,  1.,\n",
       "          1.,  1.,  1.,  0.],\n",
       "        [ 1.,  1.,  1.,  1.,  1.,  0.,  1.,  1.,  1.,  1.,  1.,  1.,  1.,\n",
       "          1.,  1.,  1.,  1.,  1.,  1.,  1.,  1.,  1.,  1.,  1.,  0.,  1.,\n",
       "          1.,  1.,  1.,  0.],\n",
       "        [ 0.,  1.,  1.,  1.,  1.,  1.,  1.,  1.,  1.,  0.,  1.,  1.,  1.,\n",
       "          1.,  1.,  1.,  1.,  1.,  0.,  1.,  1.,  1.,  1.,  1.,  1.,  1.,\n",
       "          0.,  1.,  1.,  1.],\n",
       "        [ 1.,  1.,  1.,  1.,  1.,  1.,  1.,  1.,  1.,  1.,  1.,  1.,  1.,\n",
       "          1.,  0.,  1.,  1.,  1.,  1.,  0.,  0.,  1.,  1.,  1.,  1.,  1.,\n",
       "          0.,  1.,  1.,  1.],\n",
       "        [ 1.,  1.,  1.,  1.,  1.,  1.,  1.,  0.,  0.,  1.,  1.,  1.,  1.,\n",
       "          1.,  1.,  1.,  1.,  1.,  1.,  1.,  1.,  0.,  1.,  1.,  1.,  1.,\n",
       "          1.,  1.,  1.,  0.],\n",
       "        [ 1.,  1.,  1.,  0.,  1.,  1.,  1.,  0.,  1.,  0.,  1.,  0.,  1.,\n",
       "          1.,  1.,  1.,  1.,  1.,  1.,  1.,  1.,  1.,  1.,  1.,  0.,  1.,\n",
       "          1.,  1.,  1.,  1.],\n",
       "        [ 1.,  1.,  1.,  1.,  1.,  1.,  1.,  1.,  1.,  1.,  0.,  1.,  1.,\n",
       "          1.,  1.,  1.,  1.,  1.,  1.,  1.,  1.,  1.,  1.,  1.,  1.,  1.,\n",
       "          1.,  1.,  0.,  1.],\n",
       "        [ 1.,  1.,  1.,  1.,  1.,  1.,  1.,  0.,  1.,  1.,  1.,  1.,  1.,\n",
       "          1.,  1.,  1.,  1.,  1.,  1.,  1.,  1.,  1.,  1.,  1.,  0.,  1.,\n",
       "          1.,  1.,  1.,  1.],\n",
       "        [ 1.,  1.,  1.,  1.,  1.,  1.,  1.,  1.,  0.,  0.,  1.,  1.,  1.,\n",
       "          1.,  1.,  1.,  1.,  1.,  1.,  1.,  1.,  1.,  0.,  1.,  1.,  1.,\n",
       "          1.,  1.,  1.,  1.],\n",
       "        [ 0.,  1.,  1.,  1.,  1.,  1.,  0.,  1.,  1.,  1.,  1.,  1.,  1.,\n",
       "          1.,  0.,  1.,  1.,  1.,  0.,  1.,  1.,  1.,  1.,  1.,  1.,  1.,\n",
       "          1.,  1.,  1.,  0.],\n",
       "        [ 0.,  0.,  1.,  1.,  1.,  1.,  1.,  1.,  1.,  0.,  1.,  1.,  1.,\n",
       "          1.,  0.,  0.,  1.,  1.,  1.,  1.,  1.,  1.,  1.,  1.,  1.,  1.,\n",
       "          0.,  1.,  1.,  1.],\n",
       "        [ 1.,  1.,  1.,  1.,  1.,  1.,  1.,  1.,  1.,  1.,  1.,  1.,  1.,\n",
       "          1.,  0.,  1.,  1.,  1.,  1.,  1.,  1.,  1.,  1.,  1.,  1.,  1.,\n",
       "          0.,  1.,  1.,  1.]]),\n",
       " array([ 0.01835316,  0.01435676,  0.02298321,  0.01987272,  0.01564806,\n",
       "         0.02149061,  0.01538224,  0.02282606,  0.01827239,  0.01679367,\n",
       "         0.01679198,  0.01988435,  0.01570981,  0.01672926,  0.02710711,\n",
       "         0.022773  ,  0.01826453,  0.01435676,  0.01847132,  0.01840089,\n",
       "         0.02008248,  0.01993722,  0.01988293,  0.02121991,  0.01652687,\n",
       "         0.016842  ,  0.01819289,  0.02167635,  0.02337524,  0.01709342,\n",
       "        -0.02309099, -0.01565786, -0.01538224, -0.01821103, -0.01716557,\n",
       "        -0.01955732, -0.01979892, -0.0212522 , -0.01989909, -0.02512695,\n",
       "        -0.01542171, -0.01558354, -0.01548163, -0.01804886, -0.02303112,\n",
       "        -0.01851434, -0.01435676, -0.02001504, -0.01834202, -0.02126165,\n",
       "        -0.01849029, -0.01815919, -0.01547916, -0.0197211 , -0.01962111,\n",
       "        -0.01853779, -0.02488176, -0.0156371 , -0.01662796, -0.02694288]),\n",
       " 1.1729375584504919e-28,\n",
       " 0)"
      ]
     },
     "execution_count": 92,
     "metadata": {},
     "output_type": "execute_result"
    }
   ],
   "source": [
    "g.del_all_neg_edges()\n",
    "g.compute_laplacian()\n",
    "g.compute_potentials()\n",
    "g.adj_mat, g.potentials, g.error, g.count_neg_edges()"
   ]
  },
  {
   "cell_type": "code",
   "execution_count": 518,
   "metadata": {},
   "outputs": [],
   "source": [
    "class BasicExperiment():\n",
    "    def __init__(self, graph):\n",
    "        self.graph = graph\n",
    "    \n",
    "    def do_experiment(self):\n",
    "        pass\n",
    "    \n",
    "class DeleteNegEdgeExperiment():\n",
    "    def __init__(self, n, num_samples, max_edges):\n",
    "        self.n = n\n",
    "        self.num_samples = num_samples\n",
    "        self.max_edges = max_edges\n",
    "        self.results = []\n",
    "        self.bad_graphs = []\n",
    "        \n",
    "    def del_neg_edges_loop(self, graph):\n",
    "        t = 0\n",
    "        is_success = True\n",
    "        while graph.del_all_neg_edges():\n",
    "            t += 1\n",
    "            graph.compute_laplacian()\n",
    "            graph.compute_potentials()\n",
    "            if graph.error > graph.tol:\n",
    "                is_success = False\n",
    "                break \n",
    "        return t, is_success\n",
    "    \n",
    "    def do_experiment(self):\n",
    "        # repeatedly delete all negative edges from the graph until flow is positive.\n",
    "        # experiment is successful if terminates with feasible positive flow\n",
    "        # keep track of number of iterations\n",
    "        n = self.n\n",
    "        num_samples = self.num_samples\n",
    "        max_edges = self.max_edges\n",
    "        for i in range(n, max_edges):\n",
    "            total_iters = 0.0\n",
    "            num_success = 0.0\n",
    "            for j in range(num_samples):\n",
    "                graph = Helper.gen_rand_bipartite_graph(n,n,i)\n",
    "                t, is_success = self.del_neg_edges_loop(graph)\n",
    "                if not is_success:\n",
    "                    self.bad_graphs.append(graph)\n",
    "                else:\n",
    "                    total_iters += t\n",
    "                    num_success += 1\n",
    "            avg_iters = 42\n",
    "            if num_success:\n",
    "                avg_iters = total_iters/num_success\n",
    "            self.results.append(avg_iters)\n",
    "        \n",
    "    def plot_results(self):\n",
    "        n = self.n\n",
    "        max_edges = self.max_edges\n",
    "        x = [i for i in range(n, max_edges)]\n",
    "        plt.bar(x, self.results)\n",
    "        plt.show()\n",
    "        \n",
    "\n",
    "class CountNegEdgeExperiment():\n",
    "    def __init__(self, n, num_samples, max_edges):\n",
    "        #n: number of vertices on each side of the graph\n",
    "        #num_samples: number of graphs to sample for each edge #\n",
    "        self.n = n\n",
    "        self.num_samples = num_samples\n",
    "        self.max_edges = max_edges\n",
    "        self.results = []\n",
    "        \n",
    "    def do_experiment(self):\n",
    "        n = self.n\n",
    "        num_samples = self.num_samples\n",
    "        max_edges = self.max_edges\n",
    "        for i in range(n, max_edges):\n",
    "            total_neg_edges = 0.0\n",
    "            for j in range(num_samples):\n",
    "                graph = Helper.gen_rand_bipartite_graph(n, n, i)\n",
    "                num_neg_edges = graph.count_neg_edges()\n",
    "                total_neg_edges += num_neg_edges\n",
    "            avg_neg_edges = total_neg_edges/num_samples\n",
    "            self.results.append(avg_neg_edges)\n",
    "        \n",
    "    def plot_results(self):\n",
    "        n = self.n\n",
    "        max_edges = self.max_edges\n",
    "        x = [i for i in range(n, max_edges)]\n",
    "        plt.bar(x, self.results)\n",
    "        plt.show()\n",
    "        \n",
    "class NearPerfExperiment():\n",
    "    def __init__(self, num_samples):\n",
    "        self.num_samples = num_samples\n",
    "        self.results = {}\n",
    "        \n",
    "    def do_experiment(self, ns):\n",
    "        num_samples = self.num_samples\n",
    "        for n in ns:\n",
    "            max_edges = min(n*4, n*n)\n",
    "            step_size = int(max(n/20, 1))\n",
    "            for e in range(n, max_edges, step_size):\n",
    "                total_neg_flow = 0.0\n",
    "                for j in range(num_samples):\n",
    "                    graph = Helper.gen_rand_bipartite_graph(n, n, e)\n",
    "                    neg_flow = graph.total_neg_flow()\n",
    "                    total_neg_flow += neg_flow\n",
    "                avg_neg_flow = total_neg_flow/num_samples\n",
    "                if n not in self.results:\n",
    "                    self.results[n] = {}\n",
    "                self.results[n][e] = avg_neg_flow\n",
    "            \n",
    "    def plot_results(self):\n",
    "        x = sorted(self.results.keys())\n",
    "        y = [max(self.results[k].values()) for k in x]\n",
    "        plt.bar(x, y)\n",
    "        plt.show()     \n",
    "        \n",
    "    def plot_results_for_n(self, n):\n",
    "        data = self.results[n]\n",
    "        x = sorted(data.keys())\n",
    "        y = [data[k] for k in x]\n",
    "        plt.bar(x, y)\n",
    "        plt.show()\n",
    "        \n",
    "class IteratedNearPerfExperiment():\n",
    "    def __init__(self, num_samples):\n",
    "        self.num_samples = num_samples\n",
    "        self.results = {}\n",
    "        \n",
    "    def run_on_graph(self, graph):\n",
    "        # while not close to a fractional perfect matching:\n",
    "        # compute an electrical flow with resistances 1\n",
    "        # look at flow induced by the positive edges -- this will overflow supplies/demands if \n",
    "        # there were negative edges in the electrical flow\n",
    "        # decrease flow on positive edges to keep supply/demands not overflowed\n",
    "        finished = False\n",
    "        num_iters = 0\n",
    "        while not finished:\n",
    "            m,n = graph.m,graph.n\n",
    "            adj_mat = graph.adj_mat\n",
    "            supply_vec = graph.supply_vec\n",
    "            pos_flow = graph.elec_flow.clip(graph.tol)\n",
    "            left_supply_vec = np.dot(pos_flow, np.ones(n))\n",
    "            right_supply_vec = -np.dot(pos_flow.T, np.ones(m))\n",
    "            overflow_vec = np.concatenate([left_supply_vec, right_supply_vec]) - supply_vec\n",
    "            for u in range(m):\n",
    "                overflow = overflow_vec[u]\n",
    "                v = 0\n",
    "                while overflow > 0 and v < n:\n",
    "                    f = pos_flow[u,v]\n",
    "                    if f > 0:\n",
    "                        overflow = overflow - min(overflow, f)\n",
    "                        pos_flow[u,v] = f - min(overflow, f)\n",
    "                        overflow_vec[n+v] = overflow_vec[n+v] - min(overflow, f)\n",
    "                    v = v + 1\n",
    "            for v in range(n):\n",
    "                overflow = overflow_vec[n+v]\n",
    "                u = 0\n",
    "                while overflow > 0 and u < m:\n",
    "                    f = pos_flow[u,v]\n",
    "                    if f > 0:\n",
    "                        overflow = overflow - min(overflow, f)\n",
    "                        pos_flow[u,v] = f - min(overflow, f)\n",
    "                        overflow_vec[u] = overflow_vec[u] - min(overflow, f)\n",
    "                    u = u + 1\n",
    "            new_supply_vec = -overflow_vec\n",
    "#             for u in range(len(new_supply_vec)):\n",
    "#                 if np.abs(new_supply_vec[u]) < graph.tol:\n",
    "#                     new_supply_vec[u] = 0\n",
    "            graph.set_supply_vec(new_supply_vec)\n",
    "            graph.update_flow(pos_flow)\n",
    "            if np.sum(np.square(pos_flow)) < graph.tol:\n",
    "                finished = True\n",
    "            else:\n",
    "                num_iters += 1\n",
    "                graph.compute_potentials()\n",
    "                graph.compute_elec_flow()\n",
    "        return num_iters\n",
    "    \n",
    "    def do_experiment(self, ns):\n",
    "        num_samples = self.num_samples\n",
    "        for n in ns:\n",
    "            max_edges = min(n*5, n*n)\n",
    "            step_size = int(max(n/20, 1))\n",
    "            for e in range(n, max_edges, step_size):\n",
    "                total_residual = 0.0\n",
    "                total_iters = 0.0\n",
    "                for j in range(num_samples):\n",
    "                    graph = Helper.gen_rand_bipartite_graph(n, n, e)\n",
    "                    num_iters = self.run_on_graph(graph)\n",
    "                    supply_vec = graph.supply_vec\n",
    "                    residual = np.linalg.norm(supply_vec, 1)/2\n",
    "                    if residual < 1e-4:\n",
    "                        residual = 0\n",
    "                    total_residual += residual\n",
    "                    total_iters += num_iters\n",
    "                avg_iters = total_iters/num_samples\n",
    "                avg_residual = total_residual/num_samples\n",
    "                if n not in self.results:\n",
    "                    self.results[n] = {}\n",
    "                self.results[n][e] = [avg_iters, avg_residual]\n",
    "                \n",
    "    def plot_size_of_frac_matching(self):\n",
    "        x = sorted(self.results.keys())\n",
    "        y = [max(list(map(lambda p: p[1], self.results[k].values()))) for k in x]\n",
    "        plt.bar(x, y)\n",
    "        plt.show()    \n",
    "        \n",
    "    def plot_num_iters(self):\n",
    "        x = sorted(self.results.keys())\n",
    "        y = [max(list(map(lambda p: p[0], self.results[k].values()))) for k in x]\n",
    "        plt.bar(x, y)\n",
    "        plt.show()   \n",
    "        \n",
    "    def plot_results_for_n(self, n):\n",
    "        data = self.results[n]\n",
    "        x = sorted(data.keys())\n",
    "        y = [data[k] for k in x]\n",
    "        plt.bar(x, y)\n",
    "        plt.show()\n",
    "        \n",
    "    \n"
   ]
  },
  {
   "cell_type": "code",
   "execution_count": 526,
   "metadata": {},
   "outputs": [
    {
     "name": "stderr",
     "output_type": "stream",
     "text": [
      "/Library/Frameworks/Python.framework/Versions/3.6/lib/python3.6/site-packages/ipykernel_launcher.py:84: RuntimeWarning: overflow encountered in square\n",
      "/Library/Frameworks/Python.framework/Versions/3.6/lib/python3.6/site-packages/ipykernel_launcher.py:169: RuntimeWarning: overflow encountered in square\n",
      "/Library/Frameworks/Python.framework/Versions/3.6/lib/python3.6/site-packages/ipykernel_launcher.py:74: RuntimeWarning: invalid value encountered in double_scalars\n"
     ]
    },
    {
     "ename": "KeyboardInterrupt",
     "evalue": "",
     "output_type": "error",
     "traceback": [
      "\u001b[0;31m---------------------------------------------------------------------------\u001b[0m",
      "\u001b[0;31mKeyboardInterrupt\u001b[0m                         Traceback (most recent call last)",
      "\u001b[0;32m<ipython-input-526-89e34fbebf48>\u001b[0m in \u001b[0;36m<module>\u001b[0;34m()\u001b[0m\n\u001b[1;32m      1\u001b[0m \u001b[0minpe\u001b[0m \u001b[0;34m=\u001b[0m \u001b[0mIteratedNearPerfExperiment\u001b[0m\u001b[0;34m(\u001b[0m\u001b[0;36m1\u001b[0m\u001b[0;34m)\u001b[0m\u001b[0;34m\u001b[0m\u001b[0m\n\u001b[0;32m----> 2\u001b[0;31m \u001b[0minpe\u001b[0m\u001b[0;34m.\u001b[0m\u001b[0mdo_experiment\u001b[0m\u001b[0;34m(\u001b[0m\u001b[0;34m[\u001b[0m\u001b[0mi\u001b[0m \u001b[0;32mfor\u001b[0m \u001b[0mi\u001b[0m \u001b[0;32min\u001b[0m \u001b[0mrange\u001b[0m\u001b[0;34m(\u001b[0m\u001b[0;36m100\u001b[0m\u001b[0;34m,\u001b[0m \u001b[0;36m101\u001b[0m\u001b[0;34m)\u001b[0m\u001b[0;34m]\u001b[0m\u001b[0;34m)\u001b[0m\u001b[0;34m\u001b[0m\u001b[0m\n\u001b[0m\u001b[1;32m      3\u001b[0m \u001b[0mresults\u001b[0m \u001b[0;34m=\u001b[0m \u001b[0minpe\u001b[0m\u001b[0;34m.\u001b[0m\u001b[0mresults\u001b[0m\u001b[0;34m\u001b[0m\u001b[0m\n\u001b[1;32m      4\u001b[0m \u001b[0minpe\u001b[0m\u001b[0;34m.\u001b[0m\u001b[0mplot_size_of_frac_matching\u001b[0m\u001b[0;34m(\u001b[0m\u001b[0;34m)\u001b[0m\u001b[0;34m\u001b[0m\u001b[0m\n",
      "\u001b[0;32m<ipython-input-518-ff9a0825df8b>\u001b[0m in \u001b[0;36mdo_experiment\u001b[0;34m(self, ns)\u001b[0m\n\u001b[1;32m    185\u001b[0m                 \u001b[0;32mfor\u001b[0m \u001b[0mj\u001b[0m \u001b[0;32min\u001b[0m \u001b[0mrange\u001b[0m\u001b[0;34m(\u001b[0m\u001b[0mnum_samples\u001b[0m\u001b[0;34m)\u001b[0m\u001b[0;34m:\u001b[0m\u001b[0;34m\u001b[0m\u001b[0m\n\u001b[1;32m    186\u001b[0m                     \u001b[0mgraph\u001b[0m \u001b[0;34m=\u001b[0m \u001b[0mHelper\u001b[0m\u001b[0;34m.\u001b[0m\u001b[0mgen_rand_bipartite_graph\u001b[0m\u001b[0;34m(\u001b[0m\u001b[0mn\u001b[0m\u001b[0;34m,\u001b[0m \u001b[0mn\u001b[0m\u001b[0;34m,\u001b[0m \u001b[0me\u001b[0m\u001b[0;34m)\u001b[0m\u001b[0;34m\u001b[0m\u001b[0m\n\u001b[0;32m--> 187\u001b[0;31m                     \u001b[0mnum_iters\u001b[0m \u001b[0;34m=\u001b[0m \u001b[0mself\u001b[0m\u001b[0;34m.\u001b[0m\u001b[0mrun_on_graph\u001b[0m\u001b[0;34m(\u001b[0m\u001b[0mgraph\u001b[0m\u001b[0;34m)\u001b[0m\u001b[0;34m\u001b[0m\u001b[0m\n\u001b[0m\u001b[1;32m    188\u001b[0m                     \u001b[0msupply_vec\u001b[0m \u001b[0;34m=\u001b[0m \u001b[0mgraph\u001b[0m\u001b[0;34m.\u001b[0m\u001b[0msupply_vec\u001b[0m\u001b[0;34m\u001b[0m\u001b[0m\n\u001b[1;32m    189\u001b[0m                     \u001b[0mresidual\u001b[0m \u001b[0;34m=\u001b[0m \u001b[0mnp\u001b[0m\u001b[0;34m.\u001b[0m\u001b[0mlinalg\u001b[0m\u001b[0;34m.\u001b[0m\u001b[0mnorm\u001b[0m\u001b[0;34m(\u001b[0m\u001b[0msupply_vec\u001b[0m\u001b[0;34m,\u001b[0m \u001b[0;36m1\u001b[0m\u001b[0;34m)\u001b[0m\u001b[0;34m/\u001b[0m\u001b[0;36m2\u001b[0m\u001b[0;34m\u001b[0m\u001b[0m\n",
      "\u001b[0;32m<ipython-input-518-ff9a0825df8b>\u001b[0m in \u001b[0;36mrun_on_graph\u001b[0;34m(self, graph)\u001b[0m\n\u001b[1;32m    172\u001b[0m                 \u001b[0mnum_iters\u001b[0m \u001b[0;34m+=\u001b[0m \u001b[0;36m1\u001b[0m\u001b[0;34m\u001b[0m\u001b[0m\n\u001b[1;32m    173\u001b[0m                 \u001b[0mgraph\u001b[0m\u001b[0;34m.\u001b[0m\u001b[0mcompute_potentials\u001b[0m\u001b[0;34m(\u001b[0m\u001b[0;34m)\u001b[0m\u001b[0;34m\u001b[0m\u001b[0m\n\u001b[0;32m--> 174\u001b[0;31m                 \u001b[0mgraph\u001b[0m\u001b[0;34m.\u001b[0m\u001b[0mcompute_elec_flow\u001b[0m\u001b[0;34m(\u001b[0m\u001b[0;34m)\u001b[0m\u001b[0;34m\u001b[0m\u001b[0m\n\u001b[0m\u001b[1;32m    175\u001b[0m         \u001b[0;32mreturn\u001b[0m \u001b[0mnum_iters\u001b[0m\u001b[0;34m\u001b[0m\u001b[0m\n\u001b[1;32m    176\u001b[0m \u001b[0;34m\u001b[0m\u001b[0m\n",
      "\u001b[0;32m<ipython-input-493-a4ebe0f8c118>\u001b[0m in \u001b[0;36mcompute_elec_flow\u001b[0;34m(self)\u001b[0m\n\u001b[1;32m     72\u001b[0m             \u001b[0mself\u001b[0m\u001b[0;34m.\u001b[0m\u001b[0melec_flow\u001b[0m \u001b[0;34m=\u001b[0m \u001b[0mnp\u001b[0m\u001b[0;34m.\u001b[0m\u001b[0mzeros\u001b[0m\u001b[0;34m(\u001b[0m\u001b[0mself\u001b[0m\u001b[0;34m.\u001b[0m\u001b[0madj_mat\u001b[0m\u001b[0;34m.\u001b[0m\u001b[0mshape\u001b[0m\u001b[0;34m)\u001b[0m\u001b[0;34m\u001b[0m\u001b[0m\n\u001b[1;32m     73\u001b[0m         \u001b[0;32mfor\u001b[0m \u001b[0mu\u001b[0m\u001b[0;34m,\u001b[0m\u001b[0mv\u001b[0m \u001b[0;32min\u001b[0m \u001b[0mself\u001b[0m\u001b[0;34m.\u001b[0m\u001b[0medges\u001b[0m\u001b[0;34m:\u001b[0m\u001b[0;34m\u001b[0m\u001b[0m\n\u001b[0;32m---> 74\u001b[0;31m             \u001b[0mself\u001b[0m\u001b[0;34m.\u001b[0m\u001b[0melec_flow\u001b[0m\u001b[0;34m[\u001b[0m\u001b[0mu\u001b[0m\u001b[0;34m,\u001b[0m\u001b[0mv\u001b[0m\u001b[0;34m]\u001b[0m \u001b[0;34m=\u001b[0m \u001b[0;34m(\u001b[0m\u001b[0mself\u001b[0m\u001b[0;34m.\u001b[0m\u001b[0mpotentials\u001b[0m\u001b[0;34m[\u001b[0m\u001b[0mu\u001b[0m\u001b[0;34m]\u001b[0m \u001b[0;34m-\u001b[0m \u001b[0mself\u001b[0m\u001b[0;34m.\u001b[0m\u001b[0mpotentials\u001b[0m\u001b[0;34m[\u001b[0m\u001b[0mm\u001b[0m\u001b[0;34m+\u001b[0m\u001b[0mv\u001b[0m\u001b[0;34m]\u001b[0m\u001b[0;34m)\u001b[0m\u001b[0;34m/\u001b[0m\u001b[0mself\u001b[0m\u001b[0;34m.\u001b[0m\u001b[0mres\u001b[0m\u001b[0;34m[\u001b[0m\u001b[0mu\u001b[0m\u001b[0;34m,\u001b[0m\u001b[0mv\u001b[0m\u001b[0;34m]\u001b[0m\u001b[0;34m\u001b[0m\u001b[0m\n\u001b[0m\u001b[1;32m     75\u001b[0m \u001b[0;34m\u001b[0m\u001b[0m\n\u001b[1;32m     76\u001b[0m     \u001b[0;32mdef\u001b[0m \u001b[0mset_resistances\u001b[0m\u001b[0;34m(\u001b[0m\u001b[0mself\u001b[0m\u001b[0;34m,\u001b[0m \u001b[0mr_mat\u001b[0m\u001b[0;34m)\u001b[0m\u001b[0;34m:\u001b[0m\u001b[0;34m\u001b[0m\u001b[0m\n",
      "\u001b[0;31mKeyboardInterrupt\u001b[0m: "
     ]
    }
   ],
   "source": [
    "inpe = IteratedNearPerfExperiment(1)\n",
    "inpe.do_experiment([i for i in range(100, 101)])\n",
    "results = inpe.results\n",
    "inpe.plot_size_of_frac_matching()"
   ]
  },
  {
   "cell_type": "code",
   "execution_count": 507,
   "metadata": {},
   "outputs": [
    {
     "data": {
      "image/png": "[encoded data removed]",
      "text/plain": [
       "<matplotlib.figure.Figure at 0x11158b0f0>"
      ]
     },
     "metadata": {},
     "output_type": "display_data"
    }
   ],
   "source": []
  },
  {
   "cell_type": "code",
   "execution_count": 508,
   "metadata": {},
   "outputs": [
    {
     "data": {
      "text/plain": [
       "{2: {2: [2.0, 0.0], 3: [2.0, 0.0]},\n",
       " 3: {3: [1.0, 0.0],\n",
       "  4: [1.0, 0.0],\n",
       "  5: [1.0, 0.0],\n",
       "  6: [2.0, 0.0],\n",
       "  7: [1.0, 0.0],\n",
       "  8: [2.0, 0.0]},\n",
       " 4: {4: [1.0, 0.0],\n",
       "  5: [1.0, 0.0],\n",
       "  6: [1.0, 0.0],\n",
       "  7: [1.0, 0.0],\n",
       "  8: [1.0, 0.0],\n",
       "  9: [2.0, 0.0],\n",
       "  10: [1.0, 0.0],\n",
       "  11: [2.0, 0.0],\n",
       "  12: [2.0, 0.0],\n",
       "  13: [2.0, 0.0],\n",
       "  14: [2.0, 0.0],\n",
       "  15: [2.0, 0.0]},\n",
       " 5: {5: [1.0, 0.0],\n",
       "  6: [1.0, 0.0],\n",
       "  7: [1.0, 0.0],\n",
       "  8: [2.0, 0.33593833046875093],\n",
       "  9: [2.0, 0.33593831835937382],\n",
       "  10: [2.0, 0.33593832128125067],\n",
       "  11: [3.0, 0.19275438894529612],\n",
       "  12: [2.0, 0.31907173781076864],\n",
       "  13: [2.0, 0.13198499788163987],\n",
       "  14: [1.0, 0.0],\n",
       "  15: [1.0, 0.0],\n",
       "  16: [1.0, 0.0],\n",
       "  17: [1.0, 0.0],\n",
       "  18: [2.0, 0.0],\n",
       "  19: [1.0, 0.0],\n",
       "  20: [2.0, 0.0],\n",
       "  21: [2.0, 0.0],\n",
       "  22: [2.0, 0.0],\n",
       "  23: [2.0, 0.0],\n",
       "  24: [2.0, 0.0]},\n",
       " 6: {6: [1.0, 0.0],\n",
       "  7: [1.0, 0.0],\n",
       "  8: [1.0, 0.0],\n",
       "  9: [1.0, 0.0],\n",
       "  10: [1.0, 0.0],\n",
       "  11: [1.0, 0.0],\n",
       "  12: [1.0, 0.0],\n",
       "  13: [2.0, 0.52800113589999786],\n",
       "  14: [2.0, 0.37864529356140403],\n",
       "  15: [3.0, 0.40697620802883427],\n",
       "  16: [2.0, 0.12602548226719842],\n",
       "  17: [2.0, 0.76377544777393702],\n",
       "  18: [2.0, 0.1122313564815543],\n",
       "  19: [2.0, 0.32361597351980947],\n",
       "  20: [1.0, 0.0],\n",
       "  21: [1.0, 0.0],\n",
       "  22: [2.0, 0.0],\n",
       "  23: [1.0, 0.0],\n",
       "  24: [1.0, 0.0],\n",
       "  25: [1.0, 0.0],\n",
       "  26: [1.0, 0.0],\n",
       "  27: [1.0, 0.0],\n",
       "  28: [2.0, 0.0],\n",
       "  29: [2.0, 0.0]},\n",
       " 7: {7: [1.0, 0.0],\n",
       "  8: [1.0, 0.0],\n",
       "  9: [1.0, 0.0],\n",
       "  10: [1.0, 0.0],\n",
       "  11: [1.0, 0.0],\n",
       "  12: [1.0, 0.0],\n",
       "  13: [1.0, 0.0],\n",
       "  14: [1.0, 0.0],\n",
       "  15: [2.0, 0.52250154021428241],\n",
       "  16: [4.0, 0.4901221731612464],\n",
       "  17: [2.0, 0.23611278441468056],\n",
       "  18: [3.0, 0.40640106682637267],\n",
       "  19: [2.0, 0.61720580250725976],\n",
       "  20: [2.0, 0.22044796852645737],\n",
       "  21: [2.0, 0.20845422271234926],\n",
       "  22: [2.0, 0.58547107155956346],\n",
       "  23: [2.0, 0.15439556894951706],\n",
       "  24: [2.0, 0.1195409397382028],\n",
       "  25: [1.0, 0.0],\n",
       "  26: [2.0, 0.083651269173062426],\n",
       "  27: [1.0, 0.0],\n",
       "  28: [1.0, 0.0],\n",
       "  29: [2.0, 0.021798776033594175],\n",
       "  30: [1.0, 0.0],\n",
       "  31: [1.0, 0.0],\n",
       "  32: [1.0, 0.0],\n",
       "  33: [2.0, 0.0068473586691326291],\n",
       "  34: [1.0, 0.0]},\n",
       " 8: {8: [1.0, 0.0],\n",
       "  9: [1.0, 0.0],\n",
       "  10: [1.0, 0.0],\n",
       "  11: [1.0, 0.0],\n",
       "  12: [1.0, 0.0],\n",
       "  13: [1.0, 0.0],\n",
       "  14: [1.0, 0.0],\n",
       "  15: [2.0, 0.33593990366071469],\n",
       "  16: [1.0, 0.0],\n",
       "  17: [2.0, 0.88628609763888933],\n",
       "  18: [2.0, 0.32805784381747033],\n",
       "  19: [1.0, 0.0],\n",
       "  20: [1.0, 0.0],\n",
       "  21: [3.0, 0.10603063433098339],\n",
       "  22: [1.0, 0.0],\n",
       "  23: [3.0, 0.0070799733953355592],\n",
       "  24: [3.0, 0.25693515577168918],\n",
       "  25: [2.0, 0.10088723666448578],\n",
       "  26: [1.0, 0.0],\n",
       "  27: [1.0, 0.0],\n",
       "  28: [1.0, 0.0],\n",
       "  29: [1.0, 0.0],\n",
       "  30: [2.0, 0.45419641023148072],\n",
       "  31: [2.0, 0.2071268622084832],\n",
       "  32: [1.0, 0.0],\n",
       "  33: [1.0, 0.0],\n",
       "  34: [2.0, 0.15516971472804289],\n",
       "  35: [2.0, 0.058475464906878202],\n",
       "  36: [1.0, 0.0],\n",
       "  37: [2.0, 0.044710164955739415],\n",
       "  38: [1.0, 0.0],\n",
       "  39: [1.0, 0.0]},\n",
       " 9: {9: [1.0, 0.0],\n",
       "  10: [1.0, 0.0],\n",
       "  11: [1.0, 0.0],\n",
       "  12: [1.0, 0.0],\n",
       "  13: [1.0, 0.0],\n",
       "  14: [1.0, 0.0],\n",
       "  15: [1.0, 0.0],\n",
       "  16: [1.0, 0.0],\n",
       "  17: [1.0, 0.0],\n",
       "  18: [1.0, 0.0],\n",
       "  19: [2.0, 0.019949081491697707],\n",
       "  20: [1.0, 0.0],\n",
       "  21: [2.0, 0.6857708452537925],\n",
       "  22: [3.0, 0.13987475538381311],\n",
       "  23: [2.0, 0.049971479888187065],\n",
       "  24: [2.0, 1.0595780717248389],\n",
       "  25: [2.0, 0.083171078002583887],\n",
       "  26: [4.0, 0.094242288986281869],\n",
       "  27: [2.0, 0.58244957594468405],\n",
       "  28: [2.0, 0.098432991335556622],\n",
       "  29: [1.0, 0.0],\n",
       "  30: [3.0, 0.19534787589316938],\n",
       "  31: [2.0, 0.26236069811792329],\n",
       "  32: [2.0, 1.3369236133195108],\n",
       "  33: [1.0, 0.0],\n",
       "  34: [1.0, 0.0],\n",
       "  35: [2.0, 0.089426900388887953],\n",
       "  36: [2.0, 0.30838508171895057],\n",
       "  37: [2.0, 0.12888744335912752],\n",
       "  38: [2.0, 0.1699616401940211],\n",
       "  39: [1.0, 0.0],\n",
       "  40: [1.0, 0.0],\n",
       "  41: [1.0, 0.0],\n",
       "  42: [1.0, 0.0],\n",
       "  43: [1.0, 0.0],\n",
       "  44: [1.0, 0.0]}}"
      ]
     },
     "execution_count": 508,
     "metadata": {},
     "output_type": "execute_result"
    }
   ],
   "source": [
    "results"
   ]
  },
  {
   "cell_type": "code",
   "execution_count": 388,
   "metadata": {},
   "outputs": [
    {
     "data": {
      "image/png": "[encoded data removed]",
      "text/plain": [
       "<matplotlib.figure.Figure at 0x1103512e8>"
      ]
     },
     "metadata": {},
     "output_type": "display_data"
    }
   ],
   "source": [
    "npe = NearPerfExperiment(1)\n",
    "graph = npe.do_experiment([i for i in range(2, 200, 4)])\n",
    "npe.plot_results()"
   ]
  },
  {
   "cell_type": "code",
   "execution_count": 395,
   "metadata": {},
   "outputs": [
    {
     "data": {
      "image/png": "[encoded data removed]",
      "text/plain": [
       "<matplotlib.figure.Figure at 0x1122aefd0>"
      ]
     },
     "metadata": {},
     "output_type": "display_data"
    }
   ],
   "source": [
    "npe.plot_results_for_n(42)"
   ]
  },
  {
   "cell_type": "code",
   "execution_count": 338,
   "metadata": {},
   "outputs": [
    {
     "data": {
      "text/plain": [
       "(array([[ 1.,  0.,  1.],\n",
       "        [ 0.,  1.,  0.],\n",
       "        [ 0.,  1.,  1.]]), array([[ 1.,  1.,  1.],\n",
       "        [ 1.,  1.,  1.],\n",
       "        [ 1.,  1.,  1.]]), array([-0.5,  1.5,  0.5, -1.5,  0.5, -0.5]), [[0,\n",
       "   0],\n",
       "  [0, 1],\n",
       "  [2, 2]])"
      ]
     },
     "execution_count": 338,
     "metadata": {},
     "output_type": "execute_result"
    }
   ],
   "source": [
    "g.adj_mat, g.res, g.potentials, g.edges"
   ]
  },
  {
   "cell_type": "code",
   "execution_count": 250,
   "metadata": {},
   "outputs": [
    {
     "data": {
      "image/png": "[encoded data removed]",
      "text/plain": [
       "<matplotlib.figure.Figure at 0x110301320>"
      ]
     },
     "metadata": {},
     "output_type": "display_data"
    }
   ],
   "source": [
    "npe = NearPerfExperiment(30, 5, 900)\n",
    "npe.do_experiment()\n",
    "npe.plot_results()"
   ]
  },
  {
   "cell_type": "code",
   "execution_count": 237,
   "metadata": {},
   "outputs": [
    {
     "data": {
      "image/png": "[encoded data removed]",
      "text/plain": [
       "<matplotlib.figure.Figure at 0x11030fd30>"
      ]
     },
     "metadata": {},
     "output_type": "display_data"
    }
   ],
   "source": [
    "nee = CountNegEdgeExperiment(30, 10, 900)\n",
    "nee.do_experiment()\n",
    "nee.plot_results()\n"
   ]
  },
  {
   "cell_type": "code",
   "execution_count": 234,
   "metadata": {},
   "outputs": [
    {
     "data": {
      "image/png": "[encoded data removed]",
      "text/plain": [
       "<matplotlib.figure.Figure at 0x110aaa160>"
      ]
     },
     "metadata": {},
     "output_type": "display_data"
    }
   ],
   "source": [
    "nee = CountNegEdgeExperiment(200, 1, 2500)\n",
    "nee.do_experiment()\n",
    "nee.plot_results()\n"
   ]
  },
  {
   "cell_type": "code",
   "execution_count": 240,
   "metadata": {},
   "outputs": [
    {
     "data": {
      "image/png": "[encoded data removed]",
      "text/plain": [
       "<matplotlib.figure.Figure at 0x107df0da0>"
      ]
     },
     "metadata": {},
     "output_type": "display_data"
    },
    {
     "data": {
      "text/plain": [
       "(None, 0)"
      ]
     },
     "execution_count": 240,
     "metadata": {},
     "output_type": "execute_result"
    }
   ],
   "source": [
    "dee = DeleteNegEdgeExperiment(30, 1, 900)\n",
    "dee.do_experiment()\n",
    "dee.plot_results(), len(dee.bad_graphs)"
   ]
  },
  {
   "cell_type": "code",
   "execution_count": 210,
   "metadata": {
    "collapsed": true
   },
   "outputs": [
    {
     "data": {
      "image/png": "[encoded data removed]",
      "text/plain": [
       "<matplotlib.figure.Figure at 0x107f3b0b8>"
      ]
     },
     "metadata": {},
     "output_type": "display_data"
    },
    {
     "data": {
      "text/plain": [
       "(None, 1)"
      ]
     },
     "execution_count": 210,
     "metadata": {},
     "output_type": "execute_result"
    }
   ],
   "source": [
    "dee = DeleteNegEdgeExperiment(100, 1, 2500)\n",
    "dee.do_experiment()\n",
    "dee.plot_results(), len(dee.bad_graphs)"
   ]
  },
  {
   "cell_type": "code",
   "execution_count": 214,
   "metadata": {},
   "outputs": [],
   "source": [
    "bad_graph = dee.bad_graphs[0]\n"
   ]
  },
  {
   "cell_type": "code",
   "execution_count": 230,
   "metadata": {},
   "outputs": [
    {
     "data": {
      "text/plain": [
       "array([ 2.,  4.,  1.,  2.,  2.,  3.,  3.,  3.,  1.,  2.,  2.,  2.,  2.,\n",
       "        2.,  1.,  2.,  2.,  2.,  1.,  3.,  2.,  2.,  2.,  2.,  2.,  1.,\n",
       "        3.,  3.,  2.,  1.,  2.,  3.,  2.,  1.,  3.,  2.,  1.,  2.,  2.,\n",
       "        1.,  1.,  2.,  2.,  2.,  3.,  2.,  2.,  2.,  1.,  3.,  2.,  2.,\n",
       "        2.,  2.,  1.,  1.,  2.,  2.,  2.,  1.,  2.,  1.,  2.,  1.,  1.,\n",
       "        1.,  2.,  2.,  1.,  2.,  2.,  1.,  2.,  3.,  1.,  1.,  1.,  2.,\n",
       "        2.,  2.,  2.,  3.,  1.,  1.,  1.,  1.,  1.,  1.,  1.,  1.,  1.,\n",
       "        1.,  3.,  1.,  2.,  1.,  1.,  3.,  1.,  2.])"
      ]
     },
     "execution_count": 230,
     "metadata": {},
     "output_type": "execute_result"
    }
   ],
   "source": [
    "adj_mat = bad_graph.adj_mat\n",
    "c = 0\n",
    "for row in adj_mat:\n",
    "    if np.sum(row) <= 1:\n",
    "        c += 1\n",
    "sum(adj_mat)"
   ]
  },
  {
   "cell_type": "code",
   "execution_count": 232,
   "metadata": {},
   "outputs": [
    {
     "data": {
      "text/plain": [
       "(array([[ 1.,  0.,  0.],\n",
       "        [ 0.,  1.,  0.]]), array([ 1.,  1.,  0.]))"
      ]
     },
     "execution_count": 232,
     "metadata": {},
     "output_type": "execute_result"
    }
   ],
   "source": [
    "A = np.eye(2, 3)\n",
    "A, sum(A)\n"
   ]
  },
  {
   "cell_type": "code",
   "execution_count": null,
   "metadata": {},
   "outputs": [],
   "source": []
  }
 ],
 "metadata": {
  "kernelspec": {
   "display_name": "Python 3",
   "language": "python",
   "name": "python3"
  },
  "language_info": {
   "codemirror_mode": {
    "name": "ipython",
    "version": 3
   },
   "file_extension": ".py",
   "mimetype": "text/x-python",
   "name": "python",
   "nbconvert_exporter": "python",
   "pygments_lexer": "ipython3",
   "version": "3.6.2"
  }
 },
 "nbformat": 4,
 "nbformat_minor": 2
}
