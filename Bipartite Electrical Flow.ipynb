{
 "cells": [
  {
   "cell_type": "code",
   "execution_count": 151,
   "metadata": {},
   "outputs": [],
   "source": [
    "import numpy as np\n",
    "import copy\n",
    "import matplotlib.pyplot as plt"
   ]
  },
  {
   "cell_type": "code",
   "execution_count": 150,
   "metadata": {},
   "outputs": [],
   "source": [
    "class BipartiteGraph():\n",
    "    def __init__(self, adj_mat, supply_vec, res):\n",
    "        self.adj_mat = adj_mat\n",
    "        self.supply_vec = supply_vec\n",
    "        self.res = res\n",
    "        self.m = adj_mat.shape[0]\n",
    "        self.n = adj_mat.shape[1]\n",
    "        self.laplacian = None\n",
    "        self.potentials = None\n",
    "        self.error = None\n",
    "        \n",
    "        # initialize laplacian, potentials, and error\n",
    "        self.compute_laplacian()\n",
    "        self.compute_potentials()\n",
    "    \n",
    "        # for floating point error stuff -- anything with absolute value less than this is considered 0\n",
    "        self.tol = 1e-4\n",
    "        \n",
    "    def add_edge(self, u, v):\n",
    "        self.adj_mat[u,v] = 1\n",
    "        \n",
    "    def add_random_edges(self, num_edges=1):\n",
    "        non_edges = []\n",
    "        for u in range(self.m):\n",
    "            for v in range(self.n):\n",
    "                if self.adj_mat[u,v] == 0:\n",
    "                    non_edges.append([u,v])\n",
    "        l = len(non_edges)\n",
    "        if l > 0:\n",
    "            edges_to_add = np.random.choice(l, num_edges, replace=False)\n",
    "            for k in edges_to_add:\n",
    "                u,v = non_edges[k]\n",
    "                self.adj_mat[u,v] = 1\n",
    "            return True\n",
    "        return False\n",
    "        \n",
    "    def del_edge(self, u, v):\n",
    "        self.adj_mat[u,v] = 0\n",
    "    \n",
    "    def compute_laplacian(self):\n",
    "        weighted_adj_mat = np.multiply(self.adj_mat, np.reciprocal(self.res))\n",
    "        left_degs = np.diag(np.dot(weighted_adj_mat, np.ones(self.m)))\n",
    "        right_degs = np.diag(np.dot(weighted_adj_mat.T, np.ones(self.n)))\n",
    "        laplacian = np.block([[left_degs, -weighted_adj_mat], [-weighted_adj_mat.T, right_degs]])\n",
    "        self.laplacian = laplacian\n",
    "        return laplacian\n",
    "    \n",
    "    def set_resistances(self, r_mat):\n",
    "        self.res = r_mat\n",
    "        \n",
    "    def update_resistance(self, u, v, r):\n",
    "        self.res[u,v] = r\n",
    "        \n",
    "    def compute_potentials(self):\n",
    "        potentials,_,_,_ = np.linalg.lstsq(self.laplacian, self.supply_vec)\n",
    "        error = np.sum(np.square(self.supply_vec - np.dot(self.laplacian, potentials)))\n",
    "        self.potentials = potentials\n",
    "        self.error = error\n",
    "        return potentials, error\n",
    "    \n",
    "    def count_neg_edges(self):\n",
    "        num_neg_edges = 0\n",
    "        m = self.m\n",
    "        n = self.n\n",
    "        pots = self.potentials\n",
    "        num_neg_edges = 0\n",
    "        for u in range(m):\n",
    "            for v in range(n):\n",
    "                if (self.adj_mat[u,v] == 1) and (pots[u] - pots[n+v] < -self.tol):\n",
    "                    num_neg_edges += 1\n",
    "        return num_neg_edges\n",
    "    \n",
    "    def del_all_neg_edges(self):\n",
    "        m = self.m\n",
    "        n = self.n\n",
    "        pots = self.potentials\n",
    "        num_neg_edges = 0\n",
    "        for u in range(m):\n",
    "            for v in range(n):\n",
    "                if (self.adj_mat[u,v] == 1) and (pots[u] - pots[n+v] < -self.tol):\n",
    "                    self.adj_mat[u,v] = 0\n",
    "                    num_neg_edges += 1\n",
    "        return num_neg_edges\n",
    "                    \n",
    "                    \n",
    "class Helper:\n",
    "    def gen_rand_bipartite_graph(m, n, num_edges):\n",
    "        adj_mat = np.eye(m, n)\n",
    "        supply_vec = np.array([1]*m + [-1]*n)\n",
    "        res_mat = np.ones((m,n))\n",
    "        g = BipartiteGraph(adj_mat, supply_vec, res_mat)\n",
    "        g.add_random_edges(num_edges=num_edges-min(m,n))\n",
    "        g.compute_laplacian()\n",
    "        g.compute_potentials()\n",
    "        return g\n",
    "        "
   ]
  },
  {
   "cell_type": "code",
   "execution_count": 118,
   "metadata": {},
   "outputs": [],
   "source": [
    "g = Helper.gen_rand_bipartite_graph(30, 30, 100)\n"
   ]
  },
  {
   "cell_type": "code",
   "execution_count": 119,
   "metadata": {},
   "outputs": [
    {
     "data": {
      "text/plain": [
       "(4.1413964928938712e-28, 6)"
      ]
     },
     "execution_count": 119,
     "metadata": {},
     "output_type": "execute_result"
    }
   ],
   "source": [
    "g.error, g.count_neg_edges()"
   ]
  },
  {
   "cell_type": "code",
   "execution_count": 92,
   "metadata": {
    "collapsed": true
   },
   "outputs": [
    {
     "data": {
      "text/plain": [
       "(array([[ 1.,  1.,  1.,  1.,  1.,  1.,  1.,  1.,  1.,  1.,  1.,  1.,  1.,\n",
       "          1.,  1.,  1.,  1.,  1.,  1.,  0.,  1.,  1.,  1.,  1.,  1.,  1.,\n",
       "          1.,  1.,  0.,  0.],\n",
       "        [ 1.,  1.,  1.,  1.,  1.,  1.,  1.,  1.,  1.,  1.,  1.,  1.,  1.,\n",
       "          1.,  1.,  1.,  1.,  1.,  1.,  1.,  1.,  1.,  1.,  1.,  1.,  1.,\n",
       "          1.,  1.,  1.,  1.],\n",
       "        [ 1.,  1.,  1.,  0.,  1.,  1.,  1.,  1.,  1.,  0.,  1.,  1.,  1.,\n",
       "          1.,  1.,  0.,  1.,  1.,  1.,  0.,  1.,  0.,  1.,  1.,  0.,  1.,\n",
       "          1.,  1.,  1.,  1.],\n",
       "        [ 0.,  1.,  1.,  1.,  1.,  1.,  1.,  1.,  1.,  0.,  1.,  1.,  1.,\n",
       "          0.,  1.,  1.,  1.,  1.,  1.,  1.,  1.,  1.,  1.,  0.,  1.,  1.,\n",
       "          1.,  1.,  1.,  1.],\n",
       "        [ 0.,  1.,  1.,  1.,  1.,  1.,  1.,  1.,  1.,  1.,  1.,  1.,  1.,\n",
       "          1.,  1.,  1.,  1.,  1.,  1.,  1.,  1.,  1.,  1.,  1.,  1.,  1.,\n",
       "          1.,  1.,  1.,  1.],\n",
       "        [ 1.,  1.,  1.,  1.,  1.,  1.,  1.,  1.,  0.,  0.,  1.,  1.,  1.,\n",
       "          1.,  0.,  1.,  1.,  0.,  1.,  1.,  0.,  1.,  1.,  1.,  1.,  1.,\n",
       "          1.,  1.,  1.,  1.],\n",
       "        [ 1.,  1.,  0.,  1.,  1.,  1.,  1.,  1.,  1.,  1.,  1.,  1.,  1.,\n",
       "          1.,  1.,  1.,  1.,  1.,  1.,  1.,  1.,  1.,  1.,  1.,  1.,  1.,\n",
       "          1.,  1.,  1.,  1.],\n",
       "        [ 0.,  1.,  1.,  1.,  0.,  1.,  0.,  1.,  1.,  1.,  1.,  1.,  1.,\n",
       "          1.,  1.,  0.,  1.,  0.,  1.,  1.,  1.,  1.,  1.,  1.,  1.,  0.,\n",
       "          1.,  1.,  1.,  1.],\n",
       "        [ 1.,  1.,  1.,  1.,  1.,  1.,  1.,  1.,  1.,  1.,  1.,  1.,  1.,\n",
       "          0.,  1.,  1.,  1.,  1.,  1.,  1.,  1.,  1.,  1.,  0.,  1.,  1.,\n",
       "          0.,  1.,  1.,  1.],\n",
       "        [ 1.,  1.,  1.,  1.,  1.,  1.,  0.,  1.,  1.,  1.,  1.,  1.,  1.,\n",
       "          1.,  1.,  1.,  1.,  1.,  1.,  1.,  1.,  1.,  1.,  0.,  1.,  1.,\n",
       "          1.,  1.,  1.,  1.],\n",
       "        [ 1.,  1.,  1.,  0.,  1.,  1.,  1.,  1.,  1.,  1.,  1.,  1.,  1.,\n",
       "          1.,  1.,  1.,  1.,  1.,  1.,  0.,  1.,  1.,  1.,  1.,  1.,  1.,\n",
       "          1.,  1.,  1.,  1.],\n",
       "        [ 1.,  1.,  1.,  1.,  1.,  0.,  1.,  0.,  1.,  1.,  1.,  1.,  1.,\n",
       "          1.,  1.,  1.,  1.,  1.,  1.,  1.,  1.,  1.,  1.,  1.,  1.,  0.,\n",
       "          1.,  1.,  1.,  0.],\n",
       "        [ 1.,  1.,  1.,  1.,  1.,  1.,  1.,  1.,  1.,  1.,  1.,  1.,  1.,\n",
       "          1.,  1.,  1.,  1.,  1.,  1.,  1.,  1.,  1.,  1.,  1.,  1.,  1.,\n",
       "          0.,  1.,  1.,  1.],\n",
       "        [ 1.,  1.,  1.,  1.,  1.,  0.,  1.,  1.,  1.,  1.,  1.,  1.,  1.,\n",
       "          1.,  1.,  1.,  1.,  1.,  1.,  1.,  1.,  0.,  1.,  1.,  1.,  1.,\n",
       "          1.,  1.,  1.,  1.],\n",
       "        [ 1.,  1.,  1.,  1.,  0.,  1.,  1.,  1.,  0.,  1.,  1.,  1.,  1.,\n",
       "          1.,  1.,  1.,  1.,  0.,  1.,  1.,  0.,  1.,  1.,  0.,  1.,  0.,\n",
       "          0.,  1.,  1.,  0.],\n",
       "        [ 1.,  1.,  1.,  1.,  1.,  0.,  0.,  0.,  1.,  1.,  1.,  1.,  1.,\n",
       "          1.,  1.,  1.,  1.,  1.,  0.,  0.,  1.,  1.,  1.,  1.,  1.,  1.,\n",
       "          1.,  0.,  1.,  1.],\n",
       "        [ 1.,  1.,  1.,  1.,  1.,  1.,  1.,  1.,  1.,  1.,  1.,  1.,  0.,\n",
       "          1.,  1.,  1.,  1.,  0.,  1.,  1.,  1.,  1.,  1.,  1.,  1.,  1.,\n",
       "          1.,  1.,  1.,  0.],\n",
       "        [ 1.,  1.,  1.,  1.,  1.,  1.,  1.,  1.,  1.,  1.,  1.,  1.,  1.,\n",
       "          1.,  1.,  1.,  1.,  1.,  1.,  1.,  1.,  1.,  1.,  1.,  1.,  1.,\n",
       "          1.,  1.,  1.,  1.],\n",
       "        [ 1.,  1.,  1.,  1.,  1.,  1.,  1.,  1.,  1.,  1.,  1.,  1.,  1.,\n",
       "          0.,  0.,  1.,  1.,  1.,  1.,  1.,  1.,  1.,  1.,  1.,  1.,  1.,\n",
       "          1.,  1.,  1.,  0.],\n",
       "        [ 1.,  1.,  1.,  1.,  1.,  0.,  1.,  1.,  1.,  1.,  1.,  1.,  1.,\n",
       "          1.,  1.,  1.,  1.,  1.,  1.,  1.,  1.,  1.,  1.,  1.,  0.,  1.,\n",
       "          1.,  1.,  1.,  0.],\n",
       "        [ 0.,  1.,  1.,  1.,  1.,  1.,  1.,  1.,  1.,  0.,  1.,  1.,  1.,\n",
       "          1.,  1.,  1.,  1.,  1.,  0.,  1.,  1.,  1.,  1.,  1.,  1.,  1.,\n",
       "          0.,  1.,  1.,  1.],\n",
       "        [ 1.,  1.,  1.,  1.,  1.,  1.,  1.,  1.,  1.,  1.,  1.,  1.,  1.,\n",
       "          1.,  0.,  1.,  1.,  1.,  1.,  0.,  0.,  1.,  1.,  1.,  1.,  1.,\n",
       "          0.,  1.,  1.,  1.],\n",
       "        [ 1.,  1.,  1.,  1.,  1.,  1.,  1.,  0.,  0.,  1.,  1.,  1.,  1.,\n",
       "          1.,  1.,  1.,  1.,  1.,  1.,  1.,  1.,  0.,  1.,  1.,  1.,  1.,\n",
       "          1.,  1.,  1.,  0.],\n",
       "        [ 1.,  1.,  1.,  0.,  1.,  1.,  1.,  0.,  1.,  0.,  1.,  0.,  1.,\n",
       "          1.,  1.,  1.,  1.,  1.,  1.,  1.,  1.,  1.,  1.,  1.,  0.,  1.,\n",
       "          1.,  1.,  1.,  1.],\n",
       "        [ 1.,  1.,  1.,  1.,  1.,  1.,  1.,  1.,  1.,  1.,  0.,  1.,  1.,\n",
       "          1.,  1.,  1.,  1.,  1.,  1.,  1.,  1.,  1.,  1.,  1.,  1.,  1.,\n",
       "          1.,  1.,  0.,  1.],\n",
       "        [ 1.,  1.,  1.,  1.,  1.,  1.,  1.,  0.,  1.,  1.,  1.,  1.,  1.,\n",
       "          1.,  1.,  1.,  1.,  1.,  1.,  1.,  1.,  1.,  1.,  1.,  0.,  1.,\n",
       "          1.,  1.,  1.,  1.],\n",
       "        [ 1.,  1.,  1.,  1.,  1.,  1.,  1.,  1.,  0.,  0.,  1.,  1.,  1.,\n",
       "          1.,  1.,  1.,  1.,  1.,  1.,  1.,  1.,  1.,  0.,  1.,  1.,  1.,\n",
       "          1.,  1.,  1.,  1.],\n",
       "        [ 0.,  1.,  1.,  1.,  1.,  1.,  0.,  1.,  1.,  1.,  1.,  1.,  1.,\n",
       "          1.,  0.,  1.,  1.,  1.,  0.,  1.,  1.,  1.,  1.,  1.,  1.,  1.,\n",
       "          1.,  1.,  1.,  0.],\n",
       "        [ 0.,  0.,  1.,  1.,  1.,  1.,  1.,  1.,  1.,  0.,  1.,  1.,  1.,\n",
       "          1.,  0.,  0.,  1.,  1.,  1.,  1.,  1.,  1.,  1.,  1.,  1.,  1.,\n",
       "          0.,  1.,  1.,  1.],\n",
       "        [ 1.,  1.,  1.,  1.,  1.,  1.,  1.,  1.,  1.,  1.,  1.,  1.,  1.,\n",
       "          1.,  0.,  1.,  1.,  1.,  1.,  1.,  1.,  1.,  1.,  1.,  1.,  1.,\n",
       "          0.,  1.,  1.,  1.]]),\n",
       " array([ 0.01835316,  0.01435676,  0.02298321,  0.01987272,  0.01564806,\n",
       "         0.02149061,  0.01538224,  0.02282606,  0.01827239,  0.01679367,\n",
       "         0.01679198,  0.01988435,  0.01570981,  0.01672926,  0.02710711,\n",
       "         0.022773  ,  0.01826453,  0.01435676,  0.01847132,  0.01840089,\n",
       "         0.02008248,  0.01993722,  0.01988293,  0.02121991,  0.01652687,\n",
       "         0.016842  ,  0.01819289,  0.02167635,  0.02337524,  0.01709342,\n",
       "        -0.02309099, -0.01565786, -0.01538224, -0.01821103, -0.01716557,\n",
       "        -0.01955732, -0.01979892, -0.0212522 , -0.01989909, -0.02512695,\n",
       "        -0.01542171, -0.01558354, -0.01548163, -0.01804886, -0.02303112,\n",
       "        -0.01851434, -0.01435676, -0.02001504, -0.01834202, -0.02126165,\n",
       "        -0.01849029, -0.01815919, -0.01547916, -0.0197211 , -0.01962111,\n",
       "        -0.01853779, -0.02488176, -0.0156371 , -0.01662796, -0.02694288]),\n",
       " 1.1729375584504919e-28,\n",
       " 0)"
      ]
     },
     "execution_count": 92,
     "metadata": {},
     "output_type": "execute_result"
    }
   ],
   "source": [
    "g.del_all_neg_edges()\n",
    "g.compute_laplacian()\n",
    "g.compute_potentials()\n",
    "g.adj_mat, g.potentials, g.error, g.count_neg_edges()"
   ]
  },
  {
   "cell_type": "code",
   "execution_count": 159,
   "metadata": {},
   "outputs": [],
   "source": [
    "class BasicExperiment():\n",
    "    def __init__(self, graph):\n",
    "        self.graph = graph\n",
    "    \n",
    "    def do_experiment(self):\n",
    "        pass\n",
    "    \n",
    "class DeleteNegEdgeExperiment():\n",
    "    def __init__(self, n, num_samples, max_edges):\n",
    "        self.n = n\n",
    "        self.num_samples = num_samples\n",
    "        self.max_edges = max_edges\n",
    "        self.results = []\n",
    "        self.bad_graphs = []\n",
    "        \n",
    "    def del_neg_edges_loop(self, graph):\n",
    "        t = 0\n",
    "        is_success = True\n",
    "        while graph.del_all_neg_edges():\n",
    "            t += 1\n",
    "            graph.compute_laplacian()\n",
    "            graph.compute_potentials()\n",
    "            if graph.error > graph.tol:\n",
    "                is_success = False\n",
    "                break \n",
    "        return t, is_success\n",
    "    \n",
    "    def do_experiment(self):\n",
    "        # repeatedly delete all negative edges from the graph until flow is positive.\n",
    "        # experiment is successful if terminates with feasible positive flow\n",
    "        # keep track of number of iterations\n",
    "        n = self.n\n",
    "        num_samples = self.num_samples\n",
    "        max_edges = self.max_edges\n",
    "        for i in range(n, max_edges):\n",
    "            total_iters = 0.0\n",
    "            num_success = 0.0\n",
    "            for j in range(num_samples):\n",
    "                graph = Helper.gen_rand_bipartite_graph(n,n,i)\n",
    "                t, is_success = self.del_neg_edges_loop(graph)\n",
    "                if not is_success:\n",
    "                    self.bad_graphs.append(graph)\n",
    "                else:\n",
    "                    total_iters += t\n",
    "                    num_success += 1\n",
    "            avg_iters = 42\n",
    "            if num_success:\n",
    "                avg_iters = total_iters/num_success\n",
    "            self.results.append(avg_iters)\n",
    "        \n",
    "    def plot_results(self):\n",
    "        n = self.n\n",
    "        max_edges = self.max_edges\n",
    "        x = [i for i in range(n, max_edges)]\n",
    "        plt.bar(x, self.results)\n",
    "        plt.show()\n",
    "        \n",
    "\n",
    "class CountNegEdgeExperiment():\n",
    "    def __init__(self, n, num_samples, max_edges):\n",
    "        #n: number of vertices on each side of the graph\n",
    "        #num_samples: number of graphs to sample for each edge #\n",
    "        self.n = n\n",
    "        self.num_samples = num_samples\n",
    "        self.max_edges = max_edges\n",
    "        self.results = []\n",
    "        \n",
    "    def do_experiment(self):\n",
    "        n = self.n\n",
    "        num_samples = self.num_samples\n",
    "        max_edges = self.max_edges\n",
    "        for i in range(n, max_edges):\n",
    "            total_neg_edges = 0.0\n",
    "            for j in range(num_samples):\n",
    "                graph = Helper.gen_rand_bipartite_graph(n, n, i)\n",
    "                num_neg_edges = graph.count_neg_edges()\n",
    "                total_neg_edges += num_neg_edges\n",
    "            avg_neg_edges = total_neg_edges/num_samples\n",
    "            self.results.append(avg_neg_edges)\n",
    "        \n",
    "    def plot_results(self):\n",
    "        n = self.n\n",
    "        max_edges = self.max_edges\n",
    "        x = [i for i in range(n, max_edges)]\n",
    "        plt.bar(x, self.results)\n",
    "        plt.show()\n",
    "        "
   ]
  },
  {
   "cell_type": "code",
   "execution_count": 237,
   "metadata": {},
   "outputs": [
    {
     "data": {
      "image/png": "[encoded data removed]",
      "text/plain": [
       "<matplotlib.figure.Figure at 0x11030fd30>"
      ]
     },
     "metadata": {},
     "output_type": "display_data"
    }
   ],
   "source": [
    "nee = CountNegEdgeExperiment(30, 10, 900)\n",
    "nee.do_experiment()\n",
    "nee.plot_results()"
   ]
  },
  {
   "cell_type": "code",
   "execution_count": 234,
   "metadata": {},
   "outputs": [
    {
     "data": {
      "image/png": "[encoded data removed]",
      "text/plain": [
       "<matplotlib.figure.Figure at 0x110aaa160>"
      ]
     },
     "metadata": {},
     "output_type": "display_data"
    }
   ],
   "source": [
    "nee = CountNegEdgeExperiment(200, 1, 2500)\n",
    "nee.do_experiment()\n",
    "nee.plot_results()\n"
   ]
  },
  {
   "cell_type": "code",
   "execution_count": 240,
   "metadata": {},
   "outputs": [
    {
     "data": {
      "image/png": "[encoded data removed]",
      "text/plain": [
       "<matplotlib.figure.Figure at 0x107df0da0>"
      ]
     },
     "metadata": {},
     "output_type": "display_data"
    },
    {
     "data": {
      "text/plain": [
       "(None, 0)"
      ]
     },
     "execution_count": 240,
     "metadata": {},
     "output_type": "execute_result"
    }
   ],
   "source": [
    "dee = DeleteNegEdgeExperiment(30, 1, 900)\n",
    "dee.do_experiment()\n",
    "dee.plot_results(), len(dee.bad_graphs)"
   ]
  },
  {
   "cell_type": "code",
   "execution_count": 210,
   "metadata": {},
   "outputs": [
    {
     "data": {
      "image/png": "[encoded data removed]",
      "text/plain": [
       "<matplotlib.figure.Figure at 0x107f3b0b8>"
      ]
     },
     "metadata": {},
     "output_type": "display_data"
    },
    {
     "data": {
      "text/plain": [
       "(None, 1)"
      ]
     },
     "execution_count": 210,
     "metadata": {},
     "output_type": "execute_result"
    }
   ],
   "source": [
    "dee = DeleteNegEdgeExperiment(100, 1, 2500)\n",
    "dee.do_experiment()\n",
    "dee.plot_results(), len(dee.bad_graphs)"
   ]
  },
  {
   "cell_type": "code",
   "execution_count": 214,
   "metadata": {},
   "outputs": [],
   "source": [
    "bad_graph = dee.bad_graphs[0]\n"
   ]
  },
  {
   "cell_type": "code",
   "execution_count": 230,
   "metadata": {},
   "outputs": [
    {
     "data": {
      "text/plain": [
       "array([ 2.,  4.,  1.,  2.,  2.,  3.,  3.,  3.,  1.,  2.,  2.,  2.,  2.,\n",
       "        2.,  1.,  2.,  2.,  2.,  1.,  3.,  2.,  2.,  2.,  2.,  2.,  1.,\n",
       "        3.,  3.,  2.,  1.,  2.,  3.,  2.,  1.,  3.,  2.,  1.,  2.,  2.,\n",
       "        1.,  1.,  2.,  2.,  2.,  3.,  2.,  2.,  2.,  1.,  3.,  2.,  2.,\n",
       "        2.,  2.,  1.,  1.,  2.,  2.,  2.,  1.,  2.,  1.,  2.,  1.,  1.,\n",
       "        1.,  2.,  2.,  1.,  2.,  2.,  1.,  2.,  3.,  1.,  1.,  1.,  2.,\n",
       "        2.,  2.,  2.,  3.,  1.,  1.,  1.,  1.,  1.,  1.,  1.,  1.,  1.,\n",
       "        1.,  3.,  1.,  2.,  1.,  1.,  3.,  1.,  2.])"
      ]
     },
     "execution_count": 230,
     "metadata": {},
     "output_type": "execute_result"
    }
   ],
   "source": [
    "adj_mat = bad_graph.adj_mat\n",
    "c = 0\n",
    "for row in adj_mat:\n",
    "    if np.sum(row) <= 1:\n",
    "        c += 1\n",
    "sum(adj_mat)"
   ]
  },
  {
   "cell_type": "code",
   "execution_count": 232,
   "metadata": {},
   "outputs": [
    {
     "data": {
      "text/plain": [
       "(array([[ 1.,  0.,  0.],\n",
       "        [ 0.,  1.,  0.]]), array([ 1.,  1.,  0.]))"
      ]
     },
     "execution_count": 232,
     "metadata": {},
     "output_type": "execute_result"
    }
   ],
   "source": [
    "A = np.eye(2, 3)\n",
    "A, sum(A)\n"
   ]
  },
  {
   "cell_type": "code",
   "execution_count": null,
   "metadata": {},
   "outputs": [],
   "source": []
  }
 ],
 "metadata": {
  "kernelspec": {
   "display_name": "Python 3",
   "language": "python",
   "name": "python3"
  },
  "language_info": {
   "codemirror_mode": {
    "name": "ipython",
    "version": 3
   },
   "file_extension": ".py",
   "mimetype": "text/x-python",
   "name": "python",
   "nbconvert_exporter": "python",
   "pygments_lexer": "ipython3",
   "version": "3.6.2"
  }
 },
 "nbformat": 4,
 "nbformat_minor": 2
}
